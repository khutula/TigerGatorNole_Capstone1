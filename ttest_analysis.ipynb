{
 "cells": [
  {
   "cell_type": "code",
   "execution_count": 1,
   "metadata": {},
   "outputs": [],
   "source": [
    "import cfbd\n",
    "import matplotlib.pyplot as plt\n",
    "import pandas as pd\n",
    "from config import api_key\n",
    "import scipy.stats as st\n",
    "\n",
    "configuration = cfbd.Configuration()\n",
    "configuration.api_key['Authorization'] = api_key\n",
    "configuration.api_key_prefix['Authorization'] = 'Bearer'\n",
    "\n",
    "api_instance = cfbd.GamesApi(cfbd.ApiClient(configuration))"
   ]
  },
  {
   "cell_type": "code",
   "execution_count": 2,
   "metadata": {},
   "outputs": [],
   "source": [
    "total_points_2004 = []\n",
    "total_points_2020 = []"
   ]
  },
  {
   "cell_type": "code",
   "execution_count": 3,
   "metadata": {},
   "outputs": [],
   "source": [
    "games = api_instance.get_games(year=2004)\n",
    "for game in games:\n",
    "    total_points_2004.append(int(game.home_points)+int(game.away_points))\n",
    "\n",
    "games = api_instance.get_games(year=2020)\n",
    "for game in games:\n",
    "    total_points_2020.append(int(game.home_points)+int(game.away_points))"
   ]
  },
  {
   "cell_type": "code",
   "execution_count": 6,
   "metadata": {},
   "outputs": [
    {
     "data": {
      "image/png": "[encoded data removed]",
      "text/plain": [
       "<Figure size 432x288 with 1 Axes>"
      ]
     },
     "metadata": {
      "needs_background": "light"
     },
     "output_type": "display_data"
    }
   ],
   "source": [
    "plt.subplot(2, 1, 2)\n",
    "plt.hist(total_points_2004, 10, density=True, alpha=0.7, label=\"2004\")\n",
    "plt.hist(total_points_2020, 10, density=True, alpha=0.7, label=\"2020\")\n",
    "plt.axvline(sum(total_points_2004)/len(total_points_2004), color='k', linestyle='dashed', linewidth=1)\n",
    "plt.axvline(sum(total_points_2020)/len(total_points_2020), color='k', linestyle='dashed', linewidth=1)\n",
    "plt.legend()  \n",
    "plt.show()"
   ]
  },
  {
   "cell_type": "code",
   "execution_count": 8,
   "metadata": {},
   "outputs": [],
   "source": [
    "output_2004 = pd.DataFrame({\n",
    "    \"2004 Total Points\": total_points_2004\n",
    "})\n",
    "output_2020 = pd.DataFrame({\n",
    "    \"2020 Total Points\": total_points_2020\n",
    "})"
   ]
  },
  {
   "cell_type": "code",
   "execution_count": 9,
   "metadata": {},
   "outputs": [],
   "source": [
    "output_2004.to_csv(\"Output/2004_ttest_data.csv\", index=False, header=True)\n",
    "output_2020.to_csv(\"Output/2020_ttest_data.csv\", index=False, header=True)"
   ]
  },
  {
   "cell_type": "code",
   "execution_count": 13,
   "metadata": {},
   "outputs": [
    {
     "data": {
      "text/plain": [
       "Ttest_indResult(statistic=-5.014530349905278, pvalue=6.1526352641952e-07)"
      ]
     },
     "execution_count": 13,
     "metadata": {},
     "output_type": "execute_result"
    }
   ],
   "source": [
    "st.ttest_ind(total_points_2004, total_points_2020, equal_var=False)"
   ]
  },
  {
   "cell_type": "code",
   "execution_count": null,
   "metadata": {},
   "outputs": [],
   "source": []
  }
 ],
 "metadata": {
  "kernelspec": {
   "display_name": "Python 3",
   "language": "python",
   "name": "python3"
  },
  "language_info": {
   "codemirror_mode": {
    "name": "ipython",
    "version": 3
   },
   "file_extension": ".py",
   "mimetype": "text/x-python",
   "name": "python",
   "nbconvert_exporter": "python",
   "pygments_lexer": "ipython3",
   "version": "3.8.5"
  }
 },
 "nbformat": 4,
 "nbformat_minor": 4
}
