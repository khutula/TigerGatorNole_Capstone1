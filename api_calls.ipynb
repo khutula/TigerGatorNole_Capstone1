{
 "cells": [
  {
   "cell_type": "code",
   "execution_count": 1,
   "metadata": {
    "scrolled": true
   },
   "outputs": [],
   "source": [
    "import cfbd\n",
    "import matplotlib.pyplot as plt\n",
    "import pandas as pd\n",
    "from config import api_key\n",
    "import scipy.stats as st\n",
    "\n",
    "configuration = cfbd.Configuration()\n",
    "configuration.api_key['Authorization'] = api_key\n",
    "configuration.api_key_prefix['Authorization'] = 'Bearer'\n",
    "\n",
    "api_instance = cfbd.GamesApi(cfbd.ApiClient(configuration))"
   ]
  },
  {
   "cell_type": "code",
   "execution_count": 2,
   "metadata": {},
   "outputs": [],
   "source": [
    "season = [year for year in range(2004,2021)]\n",
    "season_extended = [year for year in range(1970,2021)]\n",
    "\n",
    "score_df = pd.DataFrame({\"Season\":season,\n",
    "                         \"Avg Points Scored Per Game\": \"\",\n",
    "                         \"Avg Turnovers\": \"\",\n",
    "                         \"Avg Total Yards\": \"\",\n",
    "                         \"Avg Third Down Eff\": \"\",\n",
    "                         \"Avg Margin of Victory\": \"\",\n",
    "                         \"Avg Number of Punts\": \"\",\n",
    "                         \"Number of Punts\": \"\",\n",
    "                         \"Avg Loss of Yard Plays\": \"\",\n",
    "                         \"Avg Standard Gain Plays\": \"\",\n",
    "                         \"Avg Explosive Plays\": \"\",\n",
    "                         \"Num Loss of Yard Plays\": \"\",\n",
    "                         \"Num Standard Gain Plays\": \"\",\n",
    "                         \"Num Explosive Plays\": \"\",\n",
    "                         \"Number of Games\": \"\"})"
   ]
  },
  {
   "cell_type": "code",
   "execution_count": 4,
   "metadata": {
    "scrolled": true
   },
   "outputs": [],
   "source": [
    "for year in season:\n",
    "    games = api_instance.get_games(year=year)\n",
    "    total_points = []\n",
    "    point_diff = []\n",
    "    for game in games:\n",
    "        try:\n",
    "            total_points.append(int(game.home_points)+int(game.away_points))\n",
    "            point_diff.append(abs(int(game.home_points)-int(game.away_points)))\n",
    "        except:\n",
    "            print(\"Skip Game\")\n",
    "    score_df.loc[score_df[\"Season\"] == year, [\"Avg Points Scored Per Game\"]] = sum(total_points) / len(total_points)\n",
    "    score_df.loc[score_df[\"Season\"] == year, [\"Avg Margin of Victory\"]] = sum(point_diff) / len(point_diff)"
   ]
  },
  {
   "cell_type": "code",
   "execution_count": 5,
   "metadata": {},
   "outputs": [],
   "source": [
    "for year in season:\n",
    "    turnovers = []\n",
    "    total_yards = []\n",
    "    third_attempts = []\n",
    "    third_successes = []\n",
    "    num_games = 0\n",
    "    for week in range(1,17):\n",
    "        try:\n",
    "            game_teams = api_instance.get_team_game_stats(year=year, week=week)\n",
    "            for game in game_teams:\n",
    "                stats_list_1 = game.teams[0][\"stats\"]\n",
    "                stats_list_2 = game.teams[1][\"stats\"]\n",
    "                num_games += 1\n",
    "                for result in stats_list_1:                 \n",
    "                    if result[\"category\"] == \"turnovers\":\n",
    "                        turnover_1 = int(result[\"stat\"])\n",
    "                    elif result[\"category\"] == \"totalYards\":\n",
    "                        tot_yards_1 = int(result[\"stat\"])  \n",
    "                    elif result[\"category\"] == \"thirdDownEff\":\n",
    "                        third_eff_str_1 = result[\"stat\"].split(\"-\") #thirdDownEff\n",
    "                for result in stats_list_2:                 \n",
    "                    if result[\"category\"] == \"turnovers\":\n",
    "                        turnover_2 = int(result[\"stat\"])\n",
    "                    elif result[\"category\"] == \"totalYards\":\n",
    "                        tot_yards_2 = int(result[\"stat\"])\n",
    "                    elif result[\"category\"] == \"thirdDownEff\":\n",
    "                        third_eff_str_2 = result[\"stat\"].split(\"-\") #thirdDownEff\n",
    "                \n",
    "                turnovers.append(turnover_1 + turnover_2)\n",
    "                total_yards.append(tot_yards_1 + tot_yards_2)\n",
    "                third_attempts.append(int(third_eff_str_1[1])+int(third_eff_str_2[1]))\n",
    "                third_successes.append(int(third_eff_str_1[0])+int(third_eff_str_2[0]))\n",
    "        except Exception as e:\n",
    "            print(f\"No data for season {year} week {week}. Skipping {e}\")\n",
    "    score_df.loc[score_df[\"Season\"] == year, [\"Avg Turnovers\"]] = sum(turnovers)/len(turnovers)\n",
    "    score_df.loc[score_df[\"Season\"] == year, [\"Avg Total Yards\"]] = sum(total_yards)/len(total_yards)\n",
    "    score_df.loc[score_df[\"Season\"] == year, [\"Avg Third Down Eff\"]] = (sum(third_successes)/len(third_successes)) / (sum(third_attempts)/len(third_attempts))\n",
    "    score_df.loc[score_df[\"Season\"] == year, [\"Number of Games\"]] = num_games"
   ]
  },
  {
   "cell_type": "code",
   "execution_count": null,
   "metadata": {},
   "outputs": [
    {
     "name": "stdout",
     "output_type": "stream",
     "text": [
      "2004 processed\n",
      "2005 processed\n",
      "2006 processed\n",
      "2007 processed\n",
      "2008 processed\n",
      "2009 processed\n",
      "2010 processed\n",
      "2011 processed\n",
      "2012 processed\n",
      "2013 processed\n",
      "2014 processed\n",
      "2015 processed\n"
     ]
    }
   ],
   "source": [
    "api_instance = cfbd.DrivesApi(cfbd.ApiClient(configuration))\n",
    "\n",
    "for year in season:\n",
    "    games = api_instance.get_drives(year=year)\n",
    "    drive_results = pd.DataFrame([game.to_dict() for game in games])\n",
    "    drive_result_value_counts = drive_results[\"drive_result\"].value_counts()\n",
    "    score_df.loc[score_df[\"Season\"] == year, [\"Number of Punts\"]] = drive_result_value_counts[\"PUNT\"] + drive_result_value_counts[\"PUNT RETURN TD\"]\n",
    "    print(f\"{year} processed\")"
   ]
  },
  {
   "cell_type": "code",
   "execution_count": null,
   "metadata": {},
   "outputs": [],
   "source": [
    "rush_types = [5, 68]\n",
    "pass_types = [24, 67, 51, 4]\n",
    "neg_play_types = [7, 20]\n",
    "\n",
    "api_instance = cfbd.PlaysApi(cfbd.ApiClient(configuration))\n",
    "\n",
    "for year in season:\n",
    "    explosive_plays = 0\n",
    "    standard_plays = 0\n",
    "    loss_plays = 0\n",
    "    for week in range(1,17):\n",
    "        for rush_type in rush_types:\n",
    "            plays = api_instance.get_plays(year=year,week=week,play_type=rush_type)\n",
    "            for play in plays:\n",
    "                if play.yards_gained >= 20:\n",
    "                    explosive_plays += 1\n",
    "                elif play.yards_gained >= 0:\n",
    "                    standard_plays += 1\n",
    "                else:\n",
    "                    loss_plays += 1\n",
    "        for pass_type in pass_types:\n",
    "            plays = api_instance.get_plays(year=year,week=week,play_type=pass_type)\n",
    "            for play in plays:\n",
    "                if play.yards_gained >= 30:\n",
    "                    explosive_plays += 1\n",
    "                elif play.yards_gained >= 0:\n",
    "                    standard_plays += 1\n",
    "                else:\n",
    "                    loss_plays += 1\n",
    "        for neg_play in neg_play_types:\n",
    "            plays = api_instance.get_plays(year=year,week=week,play_type=neg_play)\n",
    "            for play in plays:\n",
    "                loss_plays += 1\n",
    "    score_df.loc[score_df[\"Season\"] == year, [\"Num Explosive Plays\"]] = explosive_plays\n",
    "    score_df.loc[score_df[\"Season\"] == year, [\"Num Standard Gain Plays\"]] = standard_plays\n",
    "    score_df.loc[score_df[\"Season\"] == year, [\"Num Loss of Yard Plays\"]] = loss_plays\n",
    "    print(f\"{year} processed\")"
   ]
  },
  {
   "cell_type": "code",
   "execution_count": null,
   "metadata": {},
   "outputs": [],
   "source": [
    "score_df"
   ]
  },
  {
   "cell_type": "code",
   "execution_count": null,
   "metadata": {},
   "outputs": [],
   "source": [
    "score_df.dtypes"
   ]
  },
  {
   "cell_type": "code",
   "execution_count": null,
   "metadata": {},
   "outputs": [],
   "source": [
    "score_df[\"Number of Games\"] = score_df[\"Number of Games\"].astype(int)\n",
    "score_df[\"Number of Punts\"] = score_df[\"Number of Punts\"].astype(float)"
   ]
  },
  {
   "cell_type": "code",
   "execution_count": null,
   "metadata": {},
   "outputs": [],
   "source": [
    "score_df[\"Avg Number of Punts\"] = score_df[\"Number of Punts\"]/score_df[\"Numer of Games\"]"
   ]
  },
  {
   "cell_type": "code",
   "execution_count": null,
   "metadata": {},
   "outputs": [],
   "source": [
    "score_df[\"Avg Explosive Plays\"] = score_df[\"Num Explosive Plays\"]/score_df[\"Numer of Games\"]\n",
    "score_df[\"Avg Standard Gain Plays\"] = score_df[\"Num Standard Gain Plays\"]/score_df[\"Numer of Games\"]\n",
    "score_df[\"Avg Loss of Yard Plays\"] = score_df[\"Num Loss of Yard Plays\"]/score_df[\"Numer of Games\"]"
   ]
  },
  {
   "cell_type": "code",
   "execution_count": 13,
   "metadata": {
    "scrolled": true
   },
   "outputs": [
    {
     "ename": "KeyError",
     "evalue": "'Avg Penalty Yards'",
     "output_type": "error",
     "traceback": [
      "\u001b[1;31m---------------------------------------------------------------------------\u001b[0m",
      "\u001b[1;31mKeyError\u001b[0m                                  Traceback (most recent call last)",
      "\u001b[1;32m~\\Anaconda3\\lib\\site-packages\\pandas\\core\\indexes\\base.py\u001b[0m in \u001b[0;36mget_loc\u001b[1;34m(self, key, method, tolerance)\u001b[0m\n\u001b[0;32m   2894\u001b[0m             \u001b[1;32mtry\u001b[0m\u001b[1;33m:\u001b[0m\u001b[1;33m\u001b[0m\u001b[1;33m\u001b[0m\u001b[0m\n\u001b[1;32m-> 2895\u001b[1;33m                 \u001b[1;32mreturn\u001b[0m \u001b[0mself\u001b[0m\u001b[1;33m.\u001b[0m\u001b[0m_engine\u001b[0m\u001b[1;33m.\u001b[0m\u001b[0mget_loc\u001b[0m\u001b[1;33m(\u001b[0m\u001b[0mcasted_key\u001b[0m\u001b[1;33m)\u001b[0m\u001b[1;33m\u001b[0m\u001b[1;33m\u001b[0m\u001b[0m\n\u001b[0m\u001b[0;32m   2896\u001b[0m             \u001b[1;32mexcept\u001b[0m \u001b[0mKeyError\u001b[0m \u001b[1;32mas\u001b[0m \u001b[0merr\u001b[0m\u001b[1;33m:\u001b[0m\u001b[1;33m\u001b[0m\u001b[1;33m\u001b[0m\u001b[0m\n",
      "\u001b[1;32mpandas\\_libs\\index.pyx\u001b[0m in \u001b[0;36mpandas._libs.index.IndexEngine.get_loc\u001b[1;34m()\u001b[0m\n",
      "\u001b[1;32mpandas\\_libs\\index.pyx\u001b[0m in \u001b[0;36mpandas._libs.index.IndexEngine.get_loc\u001b[1;34m()\u001b[0m\n",
      "\u001b[1;32mpandas\\_libs\\hashtable_class_helper.pxi\u001b[0m in \u001b[0;36mpandas._libs.hashtable.PyObjectHashTable.get_item\u001b[1;34m()\u001b[0m\n",
      "\u001b[1;32mpandas\\_libs\\hashtable_class_helper.pxi\u001b[0m in \u001b[0;36mpandas._libs.hashtable.PyObjectHashTable.get_item\u001b[1;34m()\u001b[0m\n",
      "\u001b[1;31mKeyError\u001b[0m: 'Avg Penalty Yards'",
      "\nThe above exception was the direct cause of the following exception:\n",
      "\u001b[1;31mKeyError\u001b[0m                                  Traceback (most recent call last)",
      "\u001b[1;32m<ipython-input-13-ad8ed5a501b2>\u001b[0m in \u001b[0;36m<module>\u001b[1;34m\u001b[0m\n\u001b[0;32m      3\u001b[0m \u001b[0mscore_df\u001b[0m\u001b[1;33m[\u001b[0m\u001b[1;34m\"Avg Total Yards\"\u001b[0m\u001b[1;33m]\u001b[0m \u001b[1;33m=\u001b[0m \u001b[0mscore_df\u001b[0m\u001b[1;33m[\u001b[0m\u001b[1;34m\"Avg Total Yards\"\u001b[0m\u001b[1;33m]\u001b[0m\u001b[1;33m.\u001b[0m\u001b[0mastype\u001b[0m\u001b[1;33m(\u001b[0m\u001b[0mfloat\u001b[0m\u001b[1;33m)\u001b[0m\u001b[1;33m\u001b[0m\u001b[1;33m\u001b[0m\u001b[0m\n\u001b[0;32m      4\u001b[0m \u001b[0mscore_df\u001b[0m\u001b[1;33m[\u001b[0m\u001b[1;34m\"Avg Third Down Eff\"\u001b[0m\u001b[1;33m]\u001b[0m \u001b[1;33m=\u001b[0m \u001b[0mscore_df\u001b[0m\u001b[1;33m[\u001b[0m\u001b[1;34m\"Avg Third Down Eff\"\u001b[0m\u001b[1;33m]\u001b[0m\u001b[1;33m.\u001b[0m\u001b[0mastype\u001b[0m\u001b[1;33m(\u001b[0m\u001b[0mfloat\u001b[0m\u001b[1;33m)\u001b[0m\u001b[1;33m\u001b[0m\u001b[1;33m\u001b[0m\u001b[0m\n\u001b[1;32m----> 5\u001b[1;33m \u001b[0mscore_df\u001b[0m\u001b[1;33m[\u001b[0m\u001b[1;34m\"Avg Penalty Yards\"\u001b[0m\u001b[1;33m]\u001b[0m \u001b[1;33m=\u001b[0m \u001b[0mscore_df\u001b[0m\u001b[1;33m[\u001b[0m\u001b[1;34m\"Avg Penalty Yards\"\u001b[0m\u001b[1;33m]\u001b[0m\u001b[1;33m.\u001b[0m\u001b[0mastype\u001b[0m\u001b[1;33m(\u001b[0m\u001b[0mfloat\u001b[0m\u001b[1;33m)\u001b[0m\u001b[1;33m\u001b[0m\u001b[1;33m\u001b[0m\u001b[0m\n\u001b[0m\u001b[0;32m      6\u001b[0m \u001b[0mscore_df\u001b[0m\u001b[1;33m[\u001b[0m\u001b[1;34m\"Avg Margin of Victory\"\u001b[0m\u001b[1;33m]\u001b[0m \u001b[1;33m=\u001b[0m \u001b[0mscore_df\u001b[0m\u001b[1;33m[\u001b[0m\u001b[1;34m\"Avg Margin of Victory\"\u001b[0m\u001b[1;33m]\u001b[0m\u001b[1;33m.\u001b[0m\u001b[0mastype\u001b[0m\u001b[1;33m(\u001b[0m\u001b[0mfloat\u001b[0m\u001b[1;33m)\u001b[0m\u001b[1;33m\u001b[0m\u001b[1;33m\u001b[0m\u001b[0m\n\u001b[0;32m      7\u001b[0m \u001b[0mscore_df\u001b[0m\u001b[1;33m[\u001b[0m\u001b[1;34m\"Number of Games\"\u001b[0m\u001b[1;33m]\u001b[0m \u001b[1;33m=\u001b[0m \u001b[0mscore_df\u001b[0m\u001b[1;33m[\u001b[0m\u001b[1;34m\"Number of Games\"\u001b[0m\u001b[1;33m]\u001b[0m\u001b[1;33m.\u001b[0m\u001b[0mastype\u001b[0m\u001b[1;33m(\u001b[0m\u001b[0mint\u001b[0m\u001b[1;33m)\u001b[0m\u001b[1;33m\u001b[0m\u001b[1;33m\u001b[0m\u001b[0m\n",
      "\u001b[1;32m~\\Anaconda3\\lib\\site-packages\\pandas\\core\\frame.py\u001b[0m in \u001b[0;36m__getitem__\u001b[1;34m(self, key)\u001b[0m\n\u001b[0;32m   2900\u001b[0m             \u001b[1;32mif\u001b[0m \u001b[0mself\u001b[0m\u001b[1;33m.\u001b[0m\u001b[0mcolumns\u001b[0m\u001b[1;33m.\u001b[0m\u001b[0mnlevels\u001b[0m \u001b[1;33m>\u001b[0m \u001b[1;36m1\u001b[0m\u001b[1;33m:\u001b[0m\u001b[1;33m\u001b[0m\u001b[1;33m\u001b[0m\u001b[0m\n\u001b[0;32m   2901\u001b[0m                 \u001b[1;32mreturn\u001b[0m \u001b[0mself\u001b[0m\u001b[1;33m.\u001b[0m\u001b[0m_getitem_multilevel\u001b[0m\u001b[1;33m(\u001b[0m\u001b[0mkey\u001b[0m\u001b[1;33m)\u001b[0m\u001b[1;33m\u001b[0m\u001b[1;33m\u001b[0m\u001b[0m\n\u001b[1;32m-> 2902\u001b[1;33m             \u001b[0mindexer\u001b[0m \u001b[1;33m=\u001b[0m \u001b[0mself\u001b[0m\u001b[1;33m.\u001b[0m\u001b[0mcolumns\u001b[0m\u001b[1;33m.\u001b[0m\u001b[0mget_loc\u001b[0m\u001b[1;33m(\u001b[0m\u001b[0mkey\u001b[0m\u001b[1;33m)\u001b[0m\u001b[1;33m\u001b[0m\u001b[1;33m\u001b[0m\u001b[0m\n\u001b[0m\u001b[0;32m   2903\u001b[0m             \u001b[1;32mif\u001b[0m \u001b[0mis_integer\u001b[0m\u001b[1;33m(\u001b[0m\u001b[0mindexer\u001b[0m\u001b[1;33m)\u001b[0m\u001b[1;33m:\u001b[0m\u001b[1;33m\u001b[0m\u001b[1;33m\u001b[0m\u001b[0m\n\u001b[0;32m   2904\u001b[0m                 \u001b[0mindexer\u001b[0m \u001b[1;33m=\u001b[0m \u001b[1;33m[\u001b[0m\u001b[0mindexer\u001b[0m\u001b[1;33m]\u001b[0m\u001b[1;33m\u001b[0m\u001b[1;33m\u001b[0m\u001b[0m\n",
      "\u001b[1;32m~\\Anaconda3\\lib\\site-packages\\pandas\\core\\indexes\\base.py\u001b[0m in \u001b[0;36mget_loc\u001b[1;34m(self, key, method, tolerance)\u001b[0m\n\u001b[0;32m   2895\u001b[0m                 \u001b[1;32mreturn\u001b[0m \u001b[0mself\u001b[0m\u001b[1;33m.\u001b[0m\u001b[0m_engine\u001b[0m\u001b[1;33m.\u001b[0m\u001b[0mget_loc\u001b[0m\u001b[1;33m(\u001b[0m\u001b[0mcasted_key\u001b[0m\u001b[1;33m)\u001b[0m\u001b[1;33m\u001b[0m\u001b[1;33m\u001b[0m\u001b[0m\n\u001b[0;32m   2896\u001b[0m             \u001b[1;32mexcept\u001b[0m \u001b[0mKeyError\u001b[0m \u001b[1;32mas\u001b[0m \u001b[0merr\u001b[0m\u001b[1;33m:\u001b[0m\u001b[1;33m\u001b[0m\u001b[1;33m\u001b[0m\u001b[0m\n\u001b[1;32m-> 2897\u001b[1;33m                 \u001b[1;32mraise\u001b[0m \u001b[0mKeyError\u001b[0m\u001b[1;33m(\u001b[0m\u001b[0mkey\u001b[0m\u001b[1;33m)\u001b[0m \u001b[1;32mfrom\u001b[0m \u001b[0merr\u001b[0m\u001b[1;33m\u001b[0m\u001b[1;33m\u001b[0m\u001b[0m\n\u001b[0m\u001b[0;32m   2898\u001b[0m \u001b[1;33m\u001b[0m\u001b[0m\n\u001b[0;32m   2899\u001b[0m         \u001b[1;32mif\u001b[0m \u001b[0mtolerance\u001b[0m \u001b[1;32mis\u001b[0m \u001b[1;32mnot\u001b[0m \u001b[1;32mNone\u001b[0m\u001b[1;33m:\u001b[0m\u001b[1;33m\u001b[0m\u001b[1;33m\u001b[0m\u001b[0m\n",
      "\u001b[1;31mKeyError\u001b[0m: 'Avg Penalty Yards'"
     ]
    }
   ],
   "source": [
    "score_df[\"Avg Points Scored Per Game\"] = score_df[\"Avg Points Scored Per Game\"].astype(float)\n",
    "score_df[\"Avg Turnovers\"] = score_df[\"Avg Turnovers\"].astype(float)\n",
    "score_df[\"Avg Total Yards\"] = score_df[\"Avg Total Yards\"].astype(float)\n",
    "score_df[\"Avg Third Down Eff\"] = score_df[\"Avg Third Down Eff\"].astype(float)\n",
    "score_df[\"Avg Margin of Victory\"] = score_df[\"Avg Margin of Victory\"].astype(float)\n",
    "score_df[\"Number of Games\"] = score_df[\"Number of Games\"].astype(int)\n",
    "#score_df[\"Avg Number of Punts\"] = score_df[\"Avg Number of Punts\"].astype(float)"
   ]
  },
  {
   "cell_type": "code",
   "execution_count": 23,
   "metadata": {},
   "outputs": [
    {
     "data": {
      "text/html": [
       "<div>\n",
       "<style scoped>\n",
       "    .dataframe tbody tr th:only-of-type {\n",
       "        vertical-align: middle;\n",
       "    }\n",
       "\n",
       "    .dataframe tbody tr th {\n",
       "        vertical-align: top;\n",
       "    }\n",
       "\n",
       "    .dataframe thead th {\n",
       "        text-align: right;\n",
       "    }\n",
       "</style>\n",
       "<table border=\"1\" class=\"dataframe\">\n",
       "  <thead>\n",
       "    <tr style=\"text-align: right;\">\n",
       "      <th></th>\n",
       "      <th>Season</th>\n",
       "      <th>Avg Points Scored Per Game</th>\n",
       "      <th>Avg Turnovers</th>\n",
       "      <th>Avg Total Yards</th>\n",
       "      <th>Avg Third Down Eff</th>\n",
       "      <th>Avg Margin of Vitory</th>\n",
       "    </tr>\n",
       "  </thead>\n",
       "  <tbody>\n",
       "    <tr>\n",
       "      <th>Season</th>\n",
       "      <td>1.000000</td>\n",
       "      <td>0.773413</td>\n",
       "      <td>-0.978937</td>\n",
       "      <td>0.760679</td>\n",
       "      <td>0.565979</td>\n",
       "      <td>0.403174</td>\n",
       "    </tr>\n",
       "    <tr>\n",
       "      <th>Avg Points Scored Per Game</th>\n",
       "      <td>0.773413</td>\n",
       "      <td>1.000000</td>\n",
       "      <td>-0.708560</td>\n",
       "      <td>0.974344</td>\n",
       "      <td>0.529106</td>\n",
       "      <td>0.510001</td>\n",
       "    </tr>\n",
       "    <tr>\n",
       "      <th>Avg Turnovers</th>\n",
       "      <td>-0.978937</td>\n",
       "      <td>-0.708560</td>\n",
       "      <td>1.000000</td>\n",
       "      <td>-0.719644</td>\n",
       "      <td>-0.535351</td>\n",
       "      <td>-0.427674</td>\n",
       "    </tr>\n",
       "    <tr>\n",
       "      <th>Avg Total Yards</th>\n",
       "      <td>0.760679</td>\n",
       "      <td>0.974344</td>\n",
       "      <td>-0.719644</td>\n",
       "      <td>1.000000</td>\n",
       "      <td>0.446182</td>\n",
       "      <td>0.543571</td>\n",
       "    </tr>\n",
       "    <tr>\n",
       "      <th>Avg Third Down Eff</th>\n",
       "      <td>0.565979</td>\n",
       "      <td>0.529106</td>\n",
       "      <td>-0.535351</td>\n",
       "      <td>0.446182</td>\n",
       "      <td>1.000000</td>\n",
       "      <td>0.337635</td>\n",
       "    </tr>\n",
       "    <tr>\n",
       "      <th>Avg Margin of Vitory</th>\n",
       "      <td>0.403174</td>\n",
       "      <td>0.510001</td>\n",
       "      <td>-0.427674</td>\n",
       "      <td>0.543571</td>\n",
       "      <td>0.337635</td>\n",
       "      <td>1.000000</td>\n",
       "    </tr>\n",
       "  </tbody>\n",
       "</table>\n",
       "</div>"
      ],
      "text/plain": [
       "                              Season  Avg Points Scored Per Game  \\\n",
       "Season                      1.000000                    0.773413   \n",
       "Avg Points Scored Per Game  0.773413                    1.000000   \n",
       "Avg Turnovers              -0.978937                   -0.708560   \n",
       "Avg Total Yards             0.760679                    0.974344   \n",
       "Avg Third Down Eff          0.565979                    0.529106   \n",
       "Avg Margin of Vitory        0.403174                    0.510001   \n",
       "\n",
       "                            Avg Turnovers  Avg Total Yards  \\\n",
       "Season                          -0.978937         0.760679   \n",
       "Avg Points Scored Per Game      -0.708560         0.974344   \n",
       "Avg Turnovers                    1.000000        -0.719644   \n",
       "Avg Total Yards                 -0.719644         1.000000   \n",
       "Avg Third Down Eff              -0.535351         0.446182   \n",
       "Avg Margin of Vitory            -0.427674         0.543571   \n",
       "\n",
       "                            Avg Third Down Eff  Avg Margin of Vitory  \n",
       "Season                                0.565979              0.403174  \n",
       "Avg Points Scored Per Game            0.529106              0.510001  \n",
       "Avg Turnovers                        -0.535351             -0.427674  \n",
       "Avg Total Yards                       0.446182              0.543571  \n",
       "Avg Third Down Eff                    1.000000              0.337635  \n",
       "Avg Margin of Vitory                  0.337635              1.000000  "
      ]
     },
     "execution_count": 23,
     "metadata": {},
     "output_type": "execute_result"
    }
   ],
   "source": [
    "corr_matrix = score_df.corr()\n",
    "corr_matrix"
   ]
  },
  {
   "cell_type": "code",
   "execution_count": 24,
   "metadata": {},
   "outputs": [],
   "source": [
    "teams_df = pd.DataFrame({\"Season\":season,\n",
    "                         \"Clemson Points Allowed\": \"\",\n",
    "                         \"Florida Points Allowed\": \"\",\n",
    "                         \"FSU Points Allowed\": \"\"})"
   ]
  },
  {
   "cell_type": "code",
   "execution_count": 25,
   "metadata": {},
   "outputs": [],
   "source": [
    "for year in season:\n",
    "    clem_points_allowed = []\n",
    "    florida_points_allowed = []\n",
    "    fsu_points_allowed = []\n",
    "    games = api_instance.get_games(year=year,team=\"Clemson\")\n",
    "    for game in games:\n",
    "        if game.away_team == \"Clemson\":\n",
    "            clem_points_allowed.append(game.home_points)\n",
    "        elif game.home_team == \"Clemson\":\n",
    "            clem_points_allowed.append(game.away_points)\n",
    "    teams_df.loc[teams_df[\"Season\"] == year, [\"Clemson Points Allowed\"]] = sum(clem_points_allowed)/len(clem_points_allowed)\n",
    "    games = api_instance.get_games(year=year,team=\"Florida\")\n",
    "    for game in games:\n",
    "        if game.away_team == \"Florida\":\n",
    "            florida_points_allowed.append(game.home_points)\n",
    "        elif game.home_team == \"Florida\":\n",
    "            florida_points_allowed.append(game.away_points)\n",
    "    teams_df.loc[teams_df[\"Season\"] == year, [\"Florida Points Allowed\"]] = sum(florida_points_allowed)/len(florida_points_allowed)\n",
    "    games = api_instance.get_games(year=year,team=\"Florida State\")\n",
    "    for game in games:\n",
    "        if game.away_team == \"Florida State\":\n",
    "            fsu_points_allowed.append(game.home_points)\n",
    "        elif game.home_team == \"Florida State\":\n",
    "            fsu_points_allowed.append(game.away_points)\n",
    "    teams_df.loc[teams_df[\"Season\"] == year, [\"FSU Points Allowed\"]] = sum(fsu_points_allowed)/len(fsu_points_allowed)"
   ]
  },
  {
   "cell_type": "code",
   "execution_count": 27,
   "metadata": {},
   "outputs": [],
   "source": [
    "score_df.to_csv(\"Output/metrics_by_season.csv\", index=False, header=True)\n",
    "teams_df.to_csv(\"Output/teams_points_against.csv\", index=False, header=True)"
   ]
  },
  {
   "cell_type": "code",
   "execution_count": null,
   "metadata": {},
   "outputs": [],
   "source": []
  }
 ],
 "metadata": {
  "kernelspec": {
   "display_name": "Python 3",
   "language": "python",
   "name": "python3"
  },
  "language_info": {
   "codemirror_mode": {
    "name": "ipython",
    "version": 3
   },
   "file_extension": ".py",
   "mimetype": "text/x-python",
   "name": "python",
   "nbconvert_exporter": "python",
   "pygments_lexer": "ipython3",
   "version": "3.8.5"
  }
 },
 "nbformat": 4,
 "nbformat_minor": 4
}
