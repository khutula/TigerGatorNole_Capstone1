{
 "cells": [
  {
   "cell_type": "code",
   "execution_count": 1,
   "metadata": {
    "scrolled": true
   },
   "outputs": [],
   "source": [
    "import cfbd\n",
    "import matplotlib.pyplot as plt\n",
    "import pandas as pd\n",
    "from config import api_key\n",
    "import scipy.stats as st\n",
    "\n",
    "configuration = cfbd.Configuration()\n",
    "configuration.api_key['Authorization'] = api_key\n",
    "configuration.api_key_prefix['Authorization'] = 'Bearer'\n",
    "\n",
    "api_instance = cfbd.GamesApi(cfbd.ApiClient(configuration))"
   ]
  },
  {
   "cell_type": "code",
   "execution_count": 2,
   "metadata": {},
   "outputs": [],
   "source": [
    "season = [year for year in range(2004,2021)]\n",
    "season_extended = [year for year in range(1970,2021)]\n",
    "\n",
    "score_df = pd.DataFrame({\"Season\":season,\n",
    "                         \"Avg Points Scored Per Game\": \"\",\n",
    "                         \"Avg Turnovers\": \"\",\n",
    "                         \"Avg Total Yards\": \"\",\n",
    "                         \"Avg Third Down Eff\": \"\",\n",
    "                         \"Avg Margin of Victory\": \"\",\n",
    "                         \"Avg Number of Punts\": \"\",\n",
    "                         \"Number of Punts\": \"\",\n",
    "                         \"Avg Loss of Yard Plays\": \"\",\n",
    "                         \"Avg Standard Gain Plays\": \"\",\n",
    "                         \"Avg Explosive Plays\": \"\",\n",
    "                         \"Num Loss of Yard Plays\": \"\",\n",
    "                         \"Num Standard Gain Plays\": \"\",\n",
    "                         \"Num Explosive Plays\": \"\",\n",
    "                         \"Number of Games\": \"\"})"
   ]
  },
  {
   "cell_type": "code",
   "execution_count": 4,
   "metadata": {
    "scrolled": true
   },
   "outputs": [],
   "source": [
    "for year in season:\n",
    "    games = api_instance.get_games(year=year)\n",
    "    total_points = []\n",
    "    point_diff = []\n",
    "    for game in games:\n",
    "        try:\n",
    "            total_points.append(int(game.home_points)+int(game.away_points))\n",
    "            point_diff.append(abs(int(game.home_points)-int(game.away_points)))\n",
    "        except:\n",
    "            print(\"Skip Game\")\n",
    "    score_df.loc[score_df[\"Season\"] == year, [\"Avg Points Scored Per Game\"]] = sum(total_points) / len(total_points)\n",
    "    score_df.loc[score_df[\"Season\"] == year, [\"Avg Margin of Victory\"]] = sum(point_diff) / len(point_diff)"
   ]
  },
  {
   "cell_type": "code",
   "execution_count": 5,
   "metadata": {},
   "outputs": [],
   "source": [
    "for year in season:\n",
    "    turnovers = []\n",
    "    total_yards = []\n",
    "    third_attempts = []\n",
    "    third_successes = []\n",
    "    num_games = 0\n",
    "    for week in range(1,17):\n",
    "        try:\n",
    "            game_teams = api_instance.get_team_game_stats(year=year, week=week)\n",
    "            for game in game_teams:\n",
    "                stats_list_1 = game.teams[0][\"stats\"]\n",
    "                stats_list_2 = game.teams[1][\"stats\"]\n",
    "                num_games += 1\n",
    "                for result in stats_list_1:                 \n",
    "                    if result[\"category\"] == \"turnovers\":\n",
    "                        turnover_1 = int(result[\"stat\"])\n",
    "                    elif result[\"category\"] == \"totalYards\":\n",
    "                        tot_yards_1 = int(result[\"stat\"])  \n",
    "                    elif result[\"category\"] == \"thirdDownEff\":\n",
    "                        third_eff_str_1 = result[\"stat\"].split(\"-\") #thirdDownEff\n",
    "                for result in stats_list_2:                 \n",
    "                    if result[\"category\"] == \"turnovers\":\n",
    "                        turnover_2 = int(result[\"stat\"])\n",
    "                    elif result[\"category\"] == \"totalYards\":\n",
    "                        tot_yards_2 = int(result[\"stat\"])\n",
    "                    elif result[\"category\"] == \"thirdDownEff\":\n",
    "                        third_eff_str_2 = result[\"stat\"].split(\"-\") #thirdDownEff\n",
    "                \n",
    "                turnovers.append(turnover_1 + turnover_2)\n",
    "                total_yards.append(tot_yards_1 + tot_yards_2)\n",
    "                third_attempts.append(int(third_eff_str_1[1])+int(third_eff_str_2[1]))\n",
    "                third_successes.append(int(third_eff_str_1[0])+int(third_eff_str_2[0]))\n",
    "        except Exception as e:\n",
    "            print(f\"No data for season {year} week {week}. Skipping {e}\")\n",
    "    score_df.loc[score_df[\"Season\"] == year, [\"Avg Turnovers\"]] = sum(turnovers)/len(turnovers)\n",
    "    score_df.loc[score_df[\"Season\"] == year, [\"Avg Total Yards\"]] = sum(total_yards)/len(total_yards)\n",
    "    score_df.loc[score_df[\"Season\"] == year, [\"Avg Third Down Eff\"]] = (sum(third_successes)/len(third_successes)) / (sum(third_attempts)/len(third_attempts))\n",
    "    score_df.loc[score_df[\"Season\"] == year, [\"Number of Games\"]] = num_games"
   ]
  },
  {
   "cell_type": "code",
   "execution_count": 28,
   "metadata": {},
   "outputs": [
    {
     "name": "stdout",
     "output_type": "stream",
     "text": [
      "2004 processed\n",
      "2005 processed\n",
      "2006 processed\n",
      "2007 processed\n",
      "2008 processed\n",
      "2009 processed\n",
      "2010 processed\n",
      "2011 processed\n",
      "2012 processed\n",
      "2013 processed\n",
      "2014 processed\n",
      "2015 processed\n",
      "2016 processed\n",
      "2017 processed\n",
      "2018 processed\n",
      "2019 processed\n",
      "2020 processed\n"
     ]
    }
   ],
   "source": [
    "api_instance = cfbd.DrivesApi(cfbd.ApiClient(configuration))\n",
    "\n",
    "for year in season:\n",
    "    games = api_instance.get_drives(year=year)\n",
    "    drive_results = pd.DataFrame([game.to_dict() for game in games])\n",
    "    drive_result_value_counts = drive_results[\"drive_result\"].value_counts()\n",
    "    score_df.loc[score_df[\"Season\"] == year, [\"Number of Punts\"]] = drive_result_value_counts[\"PUNT\"] + drive_result_value_counts[\"PUNT RETURN TD\"]\n",
    "    print(f\"{year} processed\")"
   ]
  },
  {
   "cell_type": "code",
   "execution_count": null,
   "metadata": {},
   "outputs": [],
   "source": [
    "rush_types = [5, 68]\n",
    "pass_types = [24, 67, 51, 4]\n",
    "neg_play_types = [7, 20]\n",
    "\n",
    "api_instance = cfbd.PlaysApi(cfbd.ApiClient(configuration))\n",
    "\n",
    "for year in season:\n",
    "    explosive_plays = 0\n",
    "    standard_plays = 0\n",
    "    loss_plays = 0\n",
    "    for week in range(1,17):\n",
    "        for rush_type in rush_types:\n",
    "            plays = api_instance.get_plays(year=year,week=week,play_type=rush_type)\n",
    "            for play in plays:\n",
    "                if play.yards_gained >= 20:\n",
    "                    explosive_plays += 1\n",
    "                elif play.yards_gained >= 0:\n",
    "                    standard_plays += 1\n",
    "                else:\n",
    "                    loss_plays += 1\n",
    "        for pass_type in pass_types:\n",
    "            plays = api_instance.get_plays(year=year,week=week,play_type=pass_type)\n",
    "            for play in plays:\n",
    "                if play.yards_gained >= 30:\n",
    "                    explosive_plays += 1\n",
    "                elif play.yards_gained >= 0:\n",
    "                    standard_plays += 1\n",
    "                else:\n",
    "                    loss_plays += 1\n",
    "        for neg_play in neg_play_types:\n",
    "            plays = api_instance.get_plays(year=year,week=week,play_type=neg_play)\n",
    "            for play in plays:\n",
    "                loss_plays += 1\n",
    "    score_df.loc[score_df[\"Season\"] == year, [\"Num Explosive Plays\"]] = explosive_plays\n",
    "    score_df.loc[score_df[\"Season\"] == year, [\"Num Standard Gain Plays\"]] = standard_plays\n",
    "    score_df.loc[score_df[\"Season\"] == year, [\"Num Loss of Yard Plays\"]] = loss_plays\n",
    "    print(f\"{year} processed\")"
   ]
  },
  {
   "cell_type": "code",
   "execution_count": null,
   "metadata": {},
   "outputs": [],
   "source": [
    "score_df[\"Avg Number of Punts\"] = score_df[\"Number of Punts\"]/score_df[\"Number of Games\"]\n",
    "score_df[\"Avg Explosive Plays\"] = score_df[\"Num Explosive Plays\"]/score_df[\"Numer of Games\"]\n",
    "score_df[\"Avg Standard Gain Plays\"] = score_df[\"Num Standard Gain Plays\"]/score_df[\"Numer of Games\"]\n",
    "score_df[\"Avg Loss of Yard Plays\"] = score_df[\"Num Loss of Yard Plays\"]/score_df[\"Numer of Games\"]"
   ]
  },
  {
   "cell_type": "code",
   "execution_count": null,
   "metadata": {},
   "outputs": [],
   "source": [
    "score_df[\"Avg Points Scored Per Game\"] = score_df[\"Avg Points Scored Per Game\"].astype(float)\n",
    "score_df[\"Avg Turnovers\"] = score_df[\"Avg Turnovers\"].astype(float)\n",
    "score_df[\"Avg Total Yards\"] = score_df[\"Avg Total Yards\"].astype(float)\n",
    "score_df[\"Avg Third Down Eff\"] = score_df[\"Avg Third Down Eff\"].astype(float)\n",
    "score_df[\"Avg Margin of Victory\"] = score_df[\"Avg Margin of Victory\"].astype(float)\n",
    "score_df[\"Number of Games\"] = score_df[\"Number of Games\"].astype(int)\n",
    "score_df[\"Number of Punts\"] = score_df[\"Number of Punts\"].astype(float)\n",
    "score_df[\"Num Explosive Plays\"] = score_df[\"Num Explosive Plays\"].astype(float)\n",
    "score_df[\"Num Standard Gain Plays\"] = score_df[\"Num Standard Gain Plays\"].astype(float)\n",
    "score_df[\"Num Loss of Yard Plays\"] = score_df[\"Num Loss of Yard Plays\"].astype(float)"
   ]
  },
  {
   "cell_type": "code",
   "execution_count": 24,
   "metadata": {},
   "outputs": [],
   "source": [
    "teams_df = pd.DataFrame({\"Season\":season,\n",
    "                         \"Clemson Points Allowed\": \"\",\n",
    "                         \"Florida Points Allowed\": \"\",\n",
    "                         \"FSU Points Allowed\": \"\"})"
   ]
  },
  {
   "cell_type": "code",
   "execution_count": 25,
   "metadata": {},
   "outputs": [],
   "source": [
    "for year in season:\n",
    "    clem_points_allowed = []\n",
    "    florida_points_allowed = []\n",
    "    fsu_points_allowed = []\n",
    "    games = api_instance.get_games(year=year,team=\"Clemson\")\n",
    "    for game in games:\n",
    "        if game.away_team == \"Clemson\":\n",
    "            clem_points_allowed.append(game.home_points)\n",
    "        elif game.home_team == \"Clemson\":\n",
    "            clem_points_allowed.append(game.away_points)\n",
    "    teams_df.loc[teams_df[\"Season\"] == year, [\"Clemson Points Allowed\"]] = sum(clem_points_allowed)/len(clem_points_allowed)\n",
    "    games = api_instance.get_games(year=year,team=\"Florida\")\n",
    "    for game in games:\n",
    "        if game.away_team == \"Florida\":\n",
    "            florida_points_allowed.append(game.home_points)\n",
    "        elif game.home_team == \"Florida\":\n",
    "            florida_points_allowed.append(game.away_points)\n",
    "    teams_df.loc[teams_df[\"Season\"] == year, [\"Florida Points Allowed\"]] = sum(florida_points_allowed)/len(florida_points_allowed)\n",
    "    games = api_instance.get_games(year=year,team=\"Florida State\")\n",
    "    for game in games:\n",
    "        if game.away_team == \"Florida State\":\n",
    "            fsu_points_allowed.append(game.home_points)\n",
    "        elif game.home_team == \"Florida State\":\n",
    "            fsu_points_allowed.append(game.away_points)\n",
    "    teams_df.loc[teams_df[\"Season\"] == year, [\"FSU Points Allowed\"]] = sum(fsu_points_allowed)/len(fsu_points_allowed)"
   ]
  },
  {
   "cell_type": "code",
   "execution_count": 36,
   "metadata": {},
   "outputs": [],
   "source": [
    "score_df.to_csv(\"Output/metrics_by_season.csv\", index=False, header=True)\n",
    "teams_df.to_csv(\"Output/teams_points_against.csv\", index=False, header=True)"
   ]
  },
  {
   "cell_type": "code",
   "execution_count": null,
   "metadata": {},
   "outputs": [],
   "source": []
  }
 ],
 "metadata": {
  "kernelspec": {
   "display_name": "Python 3",
   "language": "python",
   "name": "python3"
  },
  "language_info": {
   "codemirror_mode": {
    "name": "ipython",
    "version": 3
   },
   "file_extension": ".py",
   "mimetype": "text/x-python",
   "name": "python",
   "nbconvert_exporter": "python",
   "pygments_lexer": "ipython3",
   "version": "3.8.5"
  }
 },
 "nbformat": 4,
 "nbformat_minor": 4
}
